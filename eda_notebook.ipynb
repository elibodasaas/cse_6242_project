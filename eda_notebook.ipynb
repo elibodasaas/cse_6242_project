{
 "cells": [
  {
   "cell_type": "code",
   "execution_count": 1,
   "metadata": {},
   "outputs": [],
   "source": [
    "from neo4j import GraphDatabase, basic_auth"
   ]
  },
  {
   "cell_type": "code",
   "execution_count": 2,
   "metadata": {},
   "outputs": [],
   "source": [
    "uri = 'bolt://localhost:7687'"
   ]
  },
  {
   "cell_type": "code",
   "execution_count": 3,
   "metadata": {},
   "outputs": [],
   "source": [
    "driver = GraphDatabase.driver(uri, auth=(\"neo4j\", \"password\"))"
   ]
  },
  {
   "cell_type": "code",
   "execution_count": 4,
   "metadata": {},
   "outputs": [],
   "source": [
    "cypher_query = '''\n",
    "MATCH (a:Officer {name:$name})-[r:officer_of|intermediary_of|registered_address*..10]-(b)\n",
    "RETURN b.name as name LIMIT 20\n",
    "'''"
   ]
  },
  {
   "cell_type": "code",
   "execution_count": 5,
   "metadata": {},
   "outputs": [
    {
     "name": "stderr",
     "output_type": "stream",
     "text": [
      "/var/folders/02/s19kvgxj5l7d6sjlnmcpqd8c0000gn/T/ipykernel_16924/2472716857.py:7: DeprecationWarning: read_transaction has been renamed to execute_read\n",
      "  results = session.read_transaction(\n",
      "Transaction failed and will be retried in 0.849714289102356s (Database 'neo4j' is unavailable.)\n",
      "Transaction failed and will be retried in 2.1429879898201625s (Database 'neo4j' is unavailable.)\n",
      "Transaction failed and will be retried in 4.181602345290145s (Database 'neo4j' is unavailable.)\n",
      "Transaction failed and will be retried in 8.80005776778738s (Database 'neo4j' is unavailable.)\n",
      "Transaction failed and will be retried in 18.421553874362505s (Database 'neo4j' is unavailable.)\n"
     ]
    },
    {
     "ename": "TransientError",
     "evalue": "{code: Neo.TransientError.Database.DatabaseUnavailable} {message: Database 'neo4j' is unavailable.}",
     "output_type": "error",
     "traceback": [
      "\u001b[0;31m---------------------------------------------------------------------------\u001b[0m",
      "\u001b[0;31mTransientError\u001b[0m                            Traceback (most recent call last)",
      "Cell \u001b[0;32mIn[5], line 7\u001b[0m\n\u001b[1;32m      1\u001b[0m cypher_query \u001b[39m=\u001b[39m \u001b[39m'''\u001b[39m\n\u001b[1;32m      2\u001b[0m \u001b[39mMATCH (a:Officer \u001b[39m\u001b[39m{\u001b[39m\u001b[39mname:$name})-[r:officer_of|intermediary_of|registered_address*..10]-(b)\u001b[39m\n\u001b[1;32m      3\u001b[0m \u001b[39mRETURN b.name as name LIMIT 20\u001b[39m\n\u001b[1;32m      4\u001b[0m \u001b[39m'''\u001b[39m\n\u001b[1;32m      6\u001b[0m \u001b[39mwith\u001b[39;00m driver\u001b[39m.\u001b[39msession(database\u001b[39m=\u001b[39m\u001b[39m\"\u001b[39m\u001b[39mneo4j\u001b[39m\u001b[39m\"\u001b[39m) \u001b[39mas\u001b[39;00m session:\n\u001b[0;32m----> 7\u001b[0m   results \u001b[39m=\u001b[39m session\u001b[39m.\u001b[39mread_transaction(\n\u001b[1;32m      8\u001b[0m     \u001b[39mlambda\u001b[39;00m tx: tx\u001b[39m.\u001b[39mrun(cypher_query,\n\u001b[1;32m      9\u001b[0m                       name\u001b[39m=\u001b[39m\u001b[39m\"\u001b[39m\u001b[39mRoss, Jr. - Wilbur Louis\u001b[39m\u001b[39m\"\u001b[39m)\u001b[39m.\u001b[39mdata())\n\u001b[1;32m     10\u001b[0m   \u001b[39mfor\u001b[39;00m record \u001b[39min\u001b[39;00m results:\n\u001b[1;32m     11\u001b[0m     \u001b[39mprint\u001b[39m(record[\u001b[39m'\u001b[39m\u001b[39mname\u001b[39m\u001b[39m'\u001b[39m])\n",
      "File \u001b[0;32m/opt/anaconda3/envs/cse6242_graph/lib/python3.11/site-packages/neo4j/_meta.py:82\u001b[0m, in \u001b[0;36mdeprecated.<locals>.decorator.<locals>.inner\u001b[0;34m(*args, **kwargs)\u001b[0m\n\u001b[1;32m     79\u001b[0m \u001b[39m@wraps\u001b[39m(f)\n\u001b[1;32m     80\u001b[0m \u001b[39mdef\u001b[39;00m \u001b[39minner\u001b[39m(\u001b[39m*\u001b[39margs, \u001b[39m*\u001b[39m\u001b[39m*\u001b[39mkwargs):\n\u001b[1;32m     81\u001b[0m     deprecation_warn(message, stack_level\u001b[39m=\u001b[39m\u001b[39m2\u001b[39m)\n\u001b[0;32m---> 82\u001b[0m     \u001b[39mreturn\u001b[39;00m f(\u001b[39m*\u001b[39margs, \u001b[39m*\u001b[39m\u001b[39m*\u001b[39mkwargs)\n",
      "File \u001b[0;32m/opt/anaconda3/envs/cse6242_graph/lib/python3.11/site-packages/neo4j/_sync/work/session.py:623\u001b[0m, in \u001b[0;36mSession.read_transaction\u001b[0;34m(self, transaction_function, *args, **kwargs)\u001b[0m\n\u001b[1;32m    595\u001b[0m \u001b[39m@deprecated\u001b[39m(\u001b[39m\"\u001b[39m\u001b[39mread_transaction has been renamed to execute_read\u001b[39m\u001b[39m\"\u001b[39m)\n\u001b[1;32m    596\u001b[0m \u001b[39mdef\u001b[39;00m \u001b[39mread_transaction\u001b[39m(\n\u001b[1;32m    597\u001b[0m     \u001b[39mself\u001b[39m,\n\u001b[0;32m   (...)\u001b[0m\n\u001b[1;32m    601\u001b[0m     \u001b[39m*\u001b[39margs: _P\u001b[39m.\u001b[39margs, \u001b[39m*\u001b[39m\u001b[39m*\u001b[39mkwargs: _P\u001b[39m.\u001b[39mkwargs\n\u001b[1;32m    602\u001b[0m ) \u001b[39m-\u001b[39m\u001b[39m>\u001b[39m _R:\n\u001b[1;32m    603\u001b[0m     \u001b[39m\"\"\"Execute a unit of work in a managed read transaction.\u001b[39;00m\n\u001b[1;32m    604\u001b[0m \n\u001b[1;32m    605\u001b[0m \u001b[39m    .. note::\u001b[39;00m\n\u001b[0;32m   (...)\u001b[0m\n\u001b[1;32m    621\u001b[0m \u001b[39m        Method was renamed to :meth:`.execute_read`.\u001b[39;00m\n\u001b[1;32m    622\u001b[0m \u001b[39m    \"\"\"\u001b[39;00m\n\u001b[0;32m--> 623\u001b[0m     \u001b[39mreturn\u001b[39;00m \u001b[39mself\u001b[39m\u001b[39m.\u001b[39m_run_transaction(\n\u001b[1;32m    624\u001b[0m         READ_ACCESS, transaction_function, \u001b[39m*\u001b[39margs, \u001b[39m*\u001b[39m\u001b[39m*\u001b[39mkwargs\n\u001b[1;32m    625\u001b[0m     )\n",
      "File \u001b[0;32m/opt/anaconda3/envs/cse6242_graph/lib/python3.11/site-packages/neo4j/_sync/work/session.py:523\u001b[0m, in \u001b[0;36mSession._run_transaction\u001b[0;34m(self, access_mode, transaction_function, *args, **kwargs)\u001b[0m\n\u001b[1;32m    520\u001b[0m         \u001b[39mraise\u001b[39;00m\n\u001b[1;32m    522\u001b[0m \u001b[39mif\u001b[39;00m errors:\n\u001b[0;32m--> 523\u001b[0m     \u001b[39mraise\u001b[39;00m errors[\u001b[39m-\u001b[39m\u001b[39m1\u001b[39m]\n\u001b[1;32m    524\u001b[0m \u001b[39melse\u001b[39;00m:\n\u001b[1;32m    525\u001b[0m     \u001b[39mraise\u001b[39;00m ServiceUnavailable(\u001b[39m\"\u001b[39m\u001b[39mTransaction failed\u001b[39m\u001b[39m\"\u001b[39m)\n",
      "File \u001b[0;32m/opt/anaconda3/envs/cse6242_graph/lib/python3.11/site-packages/neo4j/_sync/work/session.py:480\u001b[0m, in \u001b[0;36mSession._run_transaction\u001b[0;34m(self, access_mode, transaction_function, *args, **kwargs)\u001b[0m\n\u001b[1;32m    478\u001b[0m \u001b[39mwhile\u001b[39;00m \u001b[39mTrue\u001b[39;00m:\n\u001b[1;32m    479\u001b[0m     \u001b[39mtry\u001b[39;00m:\n\u001b[0;32m--> 480\u001b[0m         \u001b[39mself\u001b[39m\u001b[39m.\u001b[39m_open_transaction(\n\u001b[1;32m    481\u001b[0m             tx_cls\u001b[39m=\u001b[39mManagedTransaction,\n\u001b[1;32m    482\u001b[0m             access_mode\u001b[39m=\u001b[39maccess_mode, metadata\u001b[39m=\u001b[39mmetadata,\n\u001b[1;32m    483\u001b[0m             timeout\u001b[39m=\u001b[39mtimeout\n\u001b[1;32m    484\u001b[0m         )\n\u001b[1;32m    485\u001b[0m         tx \u001b[39m=\u001b[39m \u001b[39mself\u001b[39m\u001b[39m.\u001b[39m_transaction\n\u001b[1;32m    486\u001b[0m         \u001b[39mtry\u001b[39;00m:\n",
      "File \u001b[0;32m/opt/anaconda3/envs/cse6242_graph/lib/python3.11/site-packages/neo4j/_sync/work/session.py:396\u001b[0m, in \u001b[0;36mSession._open_transaction\u001b[0;34m(self, tx_cls, access_mode, metadata, timeout)\u001b[0m\n\u001b[1;32m    389\u001b[0m \u001b[39mself\u001b[39m\u001b[39m.\u001b[39m_transaction \u001b[39m=\u001b[39m tx_cls(\n\u001b[1;32m    390\u001b[0m     \u001b[39mself\u001b[39m\u001b[39m.\u001b[39m_connection, \u001b[39mself\u001b[39m\u001b[39m.\u001b[39m_config\u001b[39m.\u001b[39mfetch_size,\n\u001b[1;32m    391\u001b[0m     \u001b[39mself\u001b[39m\u001b[39m.\u001b[39m_transaction_closed_handler,\n\u001b[1;32m    392\u001b[0m     \u001b[39mself\u001b[39m\u001b[39m.\u001b[39m_transaction_error_handler,\n\u001b[1;32m    393\u001b[0m     \u001b[39mself\u001b[39m\u001b[39m.\u001b[39m_transaction_cancel_handler\n\u001b[1;32m    394\u001b[0m )\n\u001b[1;32m    395\u001b[0m bookmarks \u001b[39m=\u001b[39m \u001b[39mself\u001b[39m\u001b[39m.\u001b[39m_get_bookmarks()\n\u001b[0;32m--> 396\u001b[0m \u001b[39mself\u001b[39m\u001b[39m.\u001b[39m_transaction\u001b[39m.\u001b[39m_begin(\n\u001b[1;32m    397\u001b[0m     \u001b[39mself\u001b[39m\u001b[39m.\u001b[39m_config\u001b[39m.\u001b[39mdatabase, \u001b[39mself\u001b[39m\u001b[39m.\u001b[39m_config\u001b[39m.\u001b[39mimpersonated_user,\n\u001b[1;32m    398\u001b[0m     bookmarks, access_mode, metadata, timeout\n\u001b[1;32m    399\u001b[0m )\n",
      "File \u001b[0;32m/opt/anaconda3/envs/cse6242_graph/lib/python3.11/site-packages/neo4j/_sync/work/transaction.py:83\u001b[0m, in \u001b[0;36mTransactionBase._begin\u001b[0;34m(self, database, imp_user, bookmarks, access_mode, metadata, timeout)\u001b[0m\n\u001b[1;32m     78\u001b[0m \u001b[39mself\u001b[39m\u001b[39m.\u001b[39m_connection\u001b[39m.\u001b[39mbegin(\n\u001b[1;32m     79\u001b[0m     bookmarks\u001b[39m=\u001b[39mbookmarks, metadata\u001b[39m=\u001b[39mmetadata, timeout\u001b[39m=\u001b[39mtimeout,\n\u001b[1;32m     80\u001b[0m     mode\u001b[39m=\u001b[39maccess_mode, db\u001b[39m=\u001b[39mdatabase, imp_user\u001b[39m=\u001b[39mimp_user\n\u001b[1;32m     81\u001b[0m )\n\u001b[1;32m     82\u001b[0m \u001b[39mself\u001b[39m\u001b[39m.\u001b[39m_error_handling_connection\u001b[39m.\u001b[39msend_all()\n\u001b[0;32m---> 83\u001b[0m \u001b[39mself\u001b[39m\u001b[39m.\u001b[39m_error_handling_connection\u001b[39m.\u001b[39mfetch_all()\n",
      "File \u001b[0;32m/opt/anaconda3/envs/cse6242_graph/lib/python3.11/site-packages/neo4j/_sync/io/_common.py:180\u001b[0m, in \u001b[0;36mConnectionErrorHandler.__getattr__.<locals>.outer.<locals>.inner\u001b[0;34m(*args, **kwargs)\u001b[0m\n\u001b[1;32m    178\u001b[0m \u001b[39mdef\u001b[39;00m \u001b[39minner\u001b[39m(\u001b[39m*\u001b[39margs, \u001b[39m*\u001b[39m\u001b[39m*\u001b[39mkwargs):\n\u001b[1;32m    179\u001b[0m     \u001b[39mtry\u001b[39;00m:\n\u001b[0;32m--> 180\u001b[0m         func(\u001b[39m*\u001b[39margs, \u001b[39m*\u001b[39m\u001b[39m*\u001b[39mkwargs)\n\u001b[1;32m    181\u001b[0m     \u001b[39mexcept\u001b[39;00m (Neo4jError, ServiceUnavailable, SessionExpired) \u001b[39mas\u001b[39;00m exc:\n\u001b[1;32m    182\u001b[0m         \u001b[39massert\u001b[39;00m \u001b[39mnot\u001b[39;00m asyncio\u001b[39m.\u001b[39miscoroutinefunction(\u001b[39mself\u001b[39m\u001b[39m.\u001b[39m__on_error)\n",
      "File \u001b[0;32m/opt/anaconda3/envs/cse6242_graph/lib/python3.11/site-packages/neo4j/_sync/io/_bolt.py:672\u001b[0m, in \u001b[0;36mBolt.fetch_all\u001b[0;34m(self)\u001b[0m\n\u001b[1;32m    670\u001b[0m response \u001b[39m=\u001b[39m \u001b[39mself\u001b[39m\u001b[39m.\u001b[39mresponses[\u001b[39m0\u001b[39m]\n\u001b[1;32m    671\u001b[0m \u001b[39mwhile\u001b[39;00m \u001b[39mnot\u001b[39;00m response\u001b[39m.\u001b[39mcomplete:\n\u001b[0;32m--> 672\u001b[0m     detail_delta, summary_delta \u001b[39m=\u001b[39m \u001b[39mself\u001b[39m\u001b[39m.\u001b[39mfetch_message()\n\u001b[1;32m    673\u001b[0m     detail_count \u001b[39m+\u001b[39m\u001b[39m=\u001b[39m detail_delta\n\u001b[1;32m    674\u001b[0m     summary_count \u001b[39m+\u001b[39m\u001b[39m=\u001b[39m summary_delta\n",
      "File \u001b[0;32m/opt/anaconda3/envs/cse6242_graph/lib/python3.11/site-packages/neo4j/_sync/io/_bolt.py:658\u001b[0m, in \u001b[0;36mBolt.fetch_message\u001b[0;34m(self)\u001b[0m\n\u001b[1;32m    654\u001b[0m \u001b[39m# Receive exactly one message\u001b[39;00m\n\u001b[1;32m    655\u001b[0m tag, fields \u001b[39m=\u001b[39m \u001b[39mself\u001b[39m\u001b[39m.\u001b[39minbox\u001b[39m.\u001b[39mpop(\n\u001b[1;32m    656\u001b[0m     hydration_hooks\u001b[39m=\u001b[39m\u001b[39mself\u001b[39m\u001b[39m.\u001b[39mresponses[\u001b[39m0\u001b[39m]\u001b[39m.\u001b[39mhydration_hooks\n\u001b[1;32m    657\u001b[0m )\n\u001b[0;32m--> 658\u001b[0m res \u001b[39m=\u001b[39m \u001b[39mself\u001b[39m\u001b[39m.\u001b[39m_process_message(tag, fields)\n\u001b[1;32m    659\u001b[0m \u001b[39mself\u001b[39m\u001b[39m.\u001b[39midle_since \u001b[39m=\u001b[39m perf_counter()\n\u001b[1;32m    660\u001b[0m \u001b[39mreturn\u001b[39;00m res\n",
      "File \u001b[0;32m/opt/anaconda3/envs/cse6242_graph/lib/python3.11/site-packages/neo4j/_sync/io/_bolt4.py:326\u001b[0m, in \u001b[0;36mBolt4x0._process_message\u001b[0;34m(self, tag, fields)\u001b[0m\n\u001b[1;32m    324\u001b[0m \u001b[39mself\u001b[39m\u001b[39m.\u001b[39m_server_state_manager\u001b[39m.\u001b[39mstate \u001b[39m=\u001b[39m ServerStates\u001b[39m.\u001b[39mFAILED\n\u001b[1;32m    325\u001b[0m \u001b[39mtry\u001b[39;00m:\n\u001b[0;32m--> 326\u001b[0m     response\u001b[39m.\u001b[39mon_failure(summary_metadata \u001b[39mor\u001b[39;00m {})\n\u001b[1;32m    327\u001b[0m \u001b[39mexcept\u001b[39;00m (ServiceUnavailable, DatabaseUnavailable):\n\u001b[1;32m    328\u001b[0m     \u001b[39mif\u001b[39;00m \u001b[39mself\u001b[39m\u001b[39m.\u001b[39mpool:\n",
      "File \u001b[0;32m/opt/anaconda3/envs/cse6242_graph/lib/python3.11/site-packages/neo4j/_sync/io/_common.py:247\u001b[0m, in \u001b[0;36mResponse.on_failure\u001b[0;34m(self, metadata)\u001b[0m\n\u001b[1;32m    245\u001b[0m handler \u001b[39m=\u001b[39m \u001b[39mself\u001b[39m\u001b[39m.\u001b[39mhandlers\u001b[39m.\u001b[39mget(\u001b[39m\"\u001b[39m\u001b[39mon_summary\u001b[39m\u001b[39m\"\u001b[39m)\n\u001b[1;32m    246\u001b[0m Util\u001b[39m.\u001b[39mcallback(handler)\n\u001b[0;32m--> 247\u001b[0m \u001b[39mraise\u001b[39;00m Neo4jError\u001b[39m.\u001b[39mhydrate(\u001b[39m*\u001b[39m\u001b[39m*\u001b[39mmetadata)\n",
      "\u001b[0;31mTransientError\u001b[0m: {code: Neo.TransientError.Database.DatabaseUnavailable} {message: Database 'neo4j' is unavailable.}"
     ]
    }
   ],
   "source": [
    "cypher_query = '''\n",
    "MATCH (a:Officer {name:$name})-[r:officer_of|intermediary_of|registered_address*..10]-(b)\n",
    "RETURN b.name as name LIMIT 20\n",
    "'''\n",
    "\n",
    "with driver.session(database=\"neo4j\") as session:\n",
    "  results = session.read_transaction(\n",
    "    lambda tx: tx.run(cypher_query,\n",
    "                      name=\"Ross, Jr. - Wilbur Louis\").data())\n",
    "  for record in results:\n",
    "    print(record['name'])\n",
    "\n",
    "driver.close()"
   ]
  },
  {
   "cell_type": "code",
   "execution_count": null,
   "metadata": {},
   "outputs": [],
   "source": []
  }
 ],
 "metadata": {
  "kernelspec": {
   "display_name": "cse6242_graph",
   "language": "python",
   "name": "python3"
  },
  "language_info": {
   "codemirror_mode": {
    "name": "ipython",
    "version": 3
   },
   "file_extension": ".py",
   "mimetype": "text/x-python",
   "name": "python",
   "nbconvert_exporter": "python",
   "pygments_lexer": "ipython3",
   "version": "3.11.0"
  },
  "orig_nbformat": 4
 },
 "nbformat": 4,
 "nbformat_minor": 2
}
